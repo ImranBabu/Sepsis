{
 "cells": [
  {
   "cell_type": "code",
   "execution_count": 1,
   "metadata": {},
   "outputs": [],
   "source": [
    "import pandas as pd\n",
    "import numpy as np\n",
    "import pickle"
   ]
  },
  {
   "cell_type": "code",
   "execution_count": null,
   "metadata": {},
   "outputs": [],
   "source": [
    "#Reading Models"
   ]
  },
  {
   "cell_type": "code",
   "execution_count": 2,
   "metadata": {},
   "outputs": [
    {
     "name": "stderr",
     "output_type": "stream",
     "text": [
      "C:\\Users\\uniq9\\Anaconda3\\lib\\site-packages\\sklearn\\base.py:251: UserWarning: Trying to unpickle estimator DecisionTreeClassifier from version 0.20.2 when using version 0.20.0. This might lead to breaking code or invalid results. Use at your own risk.\n",
      "  UserWarning)\n",
      "C:\\Users\\uniq9\\Anaconda3\\lib\\site-packages\\sklearn\\base.py:251: UserWarning: Trying to unpickle estimator RandomForestClassifier from version 0.20.2 when using version 0.20.0. This might lead to breaking code or invalid results. Use at your own risk.\n",
      "  UserWarning)\n"
     ]
    }
   ],
   "source": [
    "m1=\"SepsisRF.sav\"\n",
    "m2=\"SevereRF.sav\"\n",
    "m3=\"Shock.sav\"\n",
    "\n",
    "\n",
    "Sep1=pickle.load(open(m1,'rb'))\n",
    "Sep2=pickle.load(open(m2,'rb'))\n",
    "Sep3=pickle.load(open(m3,'rb'))"
   ]
  },
  {
   "cell_type": "code",
   "execution_count": null,
   "metadata": {},
   "outputs": [],
   "source": [
    "#Getting Inputs"
   ]
  },
  {
   "cell_type": "code",
   "execution_count": null,
   "metadata": {},
   "outputs": [
    {
     "name": "stdout",
     "output_type": "stream",
     "text": [
      "Enter the Respiratory Rate : 19\n"
     ]
    }
   ],
   "source": [
    "Res=int(input(\"Enter the Respiratory Rate : \"))\n",
    "Hrt=int(input(\"Enter the Heart Rate : \"))\n",
    "Wbc=float(input(\"Enter the WBC count : \"))\n",
    "Temp=float(input(\"Enter the Temp : \"))\n",
    "con=input(\"Is he Concious : \")\n",
    "CRP=int(input(\"CRP Range : \"))\n",
    "d={\"Yes\":0,\"No\":1,\"yes\":0,\"no\":1,\"YES\":0,\"NO\":1}\n",
    "con=d[con]\n",
    "#Sepsis Prediction\n",
    "s=Sep1.predict([[Res,Hrt,Wbc,Temp,con,CRP]])\n",
    "if s[0]==1:\n",
    "    print(\"Sepsis Symptomes detected\")\n",
    "    print(\"Let's Check the Stage\")\n",
    "    Urine=float(input(\"Enter the Urine Output : \"))\n",
    "    spo=int(input(\"Enter the SPO2 : \"))\n",
    "    #Sep2=pickle.load(open(m2,'rb'))\n",
    "    d=Sep2.predict([[Urine,spo]])\n",
    "    #Severe Sepsis Prediction\n",
    "    if d[0]==2:\n",
    "        print(\"------------------------\")\n",
    "        print(\"Severe Sepsis Symptomes detected\")\n",
    "        #Septic Shock Prediction\n",
    "\n",
    "        print(\"Predicting chances for Septic shock \")\n",
    "        BPSys=int(input(\"Enter the BP-Systolic : \"))\n",
    "        BPDia=int(input(\"Enter the Bp-Diastolic : \"))\n",
    "        Urine = float(input(\"Enter the Urine Output : \"))\n",
    "        Glucose=int(input(\"Enter the Glucose : \"))\n",
    "        Creatinine=float(input(\"Enter the Creatinine : \"))\n",
    "        Lactate=float(input(\"Enter the Lactate : \"))\n",
    "        Bilirubin = float(input(\"Enter the Bilirubin rate : \"))\n",
    "        Inr=float(input(\"Enter the Inr : \"))\n",
    "        Platelets=float(input(\"Enter the Platelets Rate : \"))\n",
    "        f=Sep3.predict([[BPSys,BPDia,Urine,Glucose,Creatinine,Lactate,Bilirubin,Inr,Platelets]])\n",
    "        if f[0]==3:\n",
    "            print(\"------------------------\")\n",
    "            print(\"Septic Shock may occur \")\n",
    "        else:\n",
    "            print(\"------------------------\")\n",
    "            print(\"Not having chances for septic shock \")\n",
    "    else:\n",
    "        print(\"------------------------\")\n",
    "        print(\"Sepsis Only detected\")\n",
    "else:\n",
    "    print(\"------------------------\")\n",
    "    print(\"It's Normal !!!\")"
   ]
  },
  {
   "cell_type": "code",
   "execution_count": null,
   "metadata": {},
   "outputs": [],
   "source": []
  }
 ],
 "metadata": {
  "kernelspec": {
   "display_name": "Python 3",
   "language": "python",
   "name": "python3"
  },
  "language_info": {
   "codemirror_mode": {
    "name": "ipython",
    "version": 3
   },
   "file_extension": ".py",
   "mimetype": "text/x-python",
   "name": "python",
   "nbconvert_exporter": "python",
   "pygments_lexer": "ipython3",
   "version": "3.5.6"
  }
 },
 "nbformat": 4,
 "nbformat_minor": 2
}
